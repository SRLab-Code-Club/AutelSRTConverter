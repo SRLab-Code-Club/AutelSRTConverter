{
 "cells": [
  {
   "cell_type": "code",
   "execution_count": 1,
   "metadata": {},
   "outputs": [],
   "source": [
    "from pathlib import Path\n",
    "import re\n",
    "\n",
    "import srt"
   ]
  },
  {
   "cell_type": "code",
   "execution_count": 2,
   "metadata": {},
   "outputs": [],
   "source": [
    "AutelSrtPath:Path = \"./SampleData/MAX_0001.srt\"\n",
    "DjiSrtPath:Path = \"./SampleData/DJI_0173.srt\""
   ]
  },
  {
   "cell_type": "code",
   "execution_count": 5,
   "metadata": {},
   "outputs": [],
   "source": [
    "# Read all content and parse the srt content\n",
    "with open(AutelSrtPath,\"rt\") as autelSrtFile:\n",
    "    autelSrtString = autelSrtFile.read()"
   ]
  },
  {
   "cell_type": "code",
   "execution_count": 6,
   "metadata": {},
   "outputs": [],
   "source": [
    "AutelSrtGenerator = srt.parse(autelSrtString)"
   ]
  },
  {
   "cell_type": "code",
   "execution_count": 7,
   "metadata": {},
   "outputs": [],
   "source": [
    "Autel_content = AutelSrtGenerator.__next__()"
   ]
  },
  {
   "cell_type": "code",
   "execution_count": 8,
   "metadata": {},
   "outputs": [
    {
     "data": {
      "text/plain": [
       "'HOME(E: 121.498550, N: 24.601643) 2024-08-02 13:24:37\\nGPS(E: 121.498672, N: 24.601662, 441.18m) \\nISO:100 SHUTTER:30 EV:0.0 F-NUM:2.8 \\nF.PRY (0.4°, -1.9°, 171.1°), G.PRY (0.0°, 0.0°, 171.2°)'"
      ]
     },
     "execution_count": 8,
     "metadata": {},
     "output_type": "execute_result"
    }
   ],
   "source": [
    "Autel_content.content"
   ]
  },
  {
   "cell_type": "markdown",
   "metadata": {},
   "source": [
    "## DJI subtitle example\n",
    "  \n",
    "```\n",
    "1\n",
    "00:00:00,000 --> 00:00:01,000\n",
    "F/2.8, SS 1667.11, ISO 100, EV 0, DZOOM 1.000, GPS (120.3534, 23.1201, 26), D 499.16m, H 98.00m, H.S 4.81m/s, V.S 0.10m/s \n",
    "```"
   ]
  },
  {
   "cell_type": "code",
   "execution_count": null,
   "metadata": {},
   "outputs": [],
   "source": []
  }
 ],
 "metadata": {
  "kernelspec": {
   "display_name": "srt",
   "language": "python",
   "name": "python3"
  },
  "language_info": {
   "codemirror_mode": {
    "name": "ipython",
    "version": 3
   },
   "file_extension": ".py",
   "mimetype": "text/x-python",
   "name": "python",
   "nbconvert_exporter": "python",
   "pygments_lexer": "ipython3",
   "version": "3.12.5"
  }
 },
 "nbformat": 4,
 "nbformat_minor": 2
}
