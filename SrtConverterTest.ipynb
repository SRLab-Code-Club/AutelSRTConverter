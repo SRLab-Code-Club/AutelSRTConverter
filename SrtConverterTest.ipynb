{
 "cells": [
  {
   "cell_type": "code",
   "execution_count": 17,
   "metadata": {},
   "outputs": [],
   "source": [
    "from pathlib import Path\n",
    "import re\n",
    "from dataclasses import dataclass\n",
    "import srt"
   ]
  },
  {
   "cell_type": "code",
   "execution_count": 40,
   "metadata": {},
   "outputs": [],
   "source": [
    "AutelSrtPath:Path = Path(\"./SampleData/MAX_0001.srt\")\n",
    "DjiSrtPath:Path = Path(\"./SampleData/DJI_0173.srt\")"
   ]
  },
  {
   "cell_type": "code",
   "execution_count": 3,
   "metadata": {},
   "outputs": [],
   "source": [
    "# Read all content and parse the srt content\n",
    "with open(AutelSrtPath,\"rt\") as autelSrtFile:\n",
    "    autelSrtString = autelSrtFile.read()"
   ]
  },
  {
   "cell_type": "code",
   "execution_count": 49,
   "metadata": {},
   "outputs": [],
   "source": [
    "AutelSrtGenerator = srt.parse(autelSrtString)"
   ]
  },
  {
   "cell_type": "code",
   "execution_count": 5,
   "metadata": {},
   "outputs": [],
   "source": [
    "Autel_content = AutelSrtGenerator.__next__()"
   ]
  },
  {
   "cell_type": "code",
   "execution_count": 8,
   "metadata": {},
   "outputs": [
    {
     "data": {
      "text/plain": [
       "'HOME(E: 121.498550, N: 24.601643) 2024-08-02 13:24:37\\nGPS(E: 121.498672, N: 24.601662, 441.18m) \\nISO:100 SHUTTER:30 EV:0.0 F-NUM:2.8 \\nF.PRY (0.4°, -1.9°, 171.1°), G.PRY (0.0°, 0.0°, 171.2°)'"
      ]
     },
     "execution_count": 6,
     "metadata": {},
     "output_type": "execute_result"
    }
   ],
   "source": [
    "Autel_content.content"
   ]
  },
  {
   "cell_type": "markdown",
   "metadata": {},
   "source": [
    "## DJI subtitle example\n",
    "Mini2    \n",
    "```\n",
    "1\n",
    "00:00:00,000 --> 00:00:01,000\n",
    "F/2.8, SS 1667.11, ISO 100, EV 0, DZOOM 1.000, GPS (120.3534, 23.1201, 26), D 499.16m, H 98.00m, H.S 4.81m/s, V.S 0.10m/s \n",
    "```\n",
    "\n",
    "Online:  \n",
    "\"\"\"\n",
    "1\n",
    "00:00:01,000 --> 00:00:02,000\n",
    "HOME(149.0251,-20.2532) 2017.08.05 14:11:51\n",
    "GPS(149.0251,-20.2533,16) BAROMETER:1.9\n",
    "ISO:100 Shutter:60 EV: Fnum:2.2\n",
    "\"\"\"\n",
    "\n",
    "pattern [GPS](https://pythex.org/?regex=GPS%5C((%3FP%3CEW%3E%5BEW%5D)%3A%5Cs%2B(%3FP%3CLon%3E%5Cd%2B%5C.%5Cd%2B)%5C%2C%5Cs%2B(%3FP%3CNS%3E%5BNS%5D)%3A%5Cs%2B(%3FP%3CLat%3E%5Cd%2B%5C.%5Cd%2B)%2C%5Cs%2B(%3FP%3CAlt%3E%5Cd%2B.%5Cd%2B)m%5C)&test_string=%27HOME(E%3A%20121.498550%2C%20N%3A%2024.601643)%202024-08-02%2013%3A24%3A37%0AGPS(E%3A%20121.498672%2C%20N%3A%2024.601662%2C%20441.18m)%20%0AISO%3A100%20SHUTTER%3A30%20EV%3A0.0%20F-NUM%3A2.8%20%0AF.PRY%20(0.4°%2C%20-1.9°%2C%20171.1°)%2C%20G.PRY%20(0.0°%2C%200.0°%2C%20171.2°)%27&ignorecase=0&multiline=0&dotall=0&verbose=0)\n",
    "\n",
    "DJI Subtitle GPS alt represents?"
   ]
  },
  {
   "cell_type": "code",
   "execution_count": 20,
   "metadata": {},
   "outputs": [],
   "source": [
    "# re patterns\n",
    "GPS_pattern = re.compile(r\"GPS\\((?P<ew>[EW]):\\s+(?P<lon>\\d+\\.\\d+)\\,\\s+(?P<ns>[NS]):\\s+(?P<lat>\\d+\\.\\d+),\\s+(?P<alt>\\d+.\\d+)m\\)\")\n",
    "Camera_pattern = re.compile(r\"ISO:(?P<iso>\\d+)\\s+SHUTTER:(?P<shutter>\\d+\\.?\\d*)\\s+EV:(?P<ev>\\d+\\.\\d+)\\s+F\\-NUM:(?P<f_num>\\d+\\.\\d+)\")"
   ]
  },
  {
   "cell_type": "code",
   "execution_count": 26,
   "metadata": {},
   "outputs": [],
   "source": [
    "GPS_match = re.search(GPS_pattern,Autel_content.content)\n",
    "GPS_match_dict = GPS_match.groupdict()"
   ]
  },
  {
   "cell_type": "code",
   "execution_count": 22,
   "metadata": {},
   "outputs": [
    {
     "name": "stdout",
     "output_type": "stream",
     "text": [
      "{'ew': 'E', 'lon': '121.498672', 'ns': 'N', 'lat': '24.601662', 'alt': '441.18'}\n"
     ]
    }
   ],
   "source": [
    "print(GPS_match.groupdict())"
   ]
  },
  {
   "cell_type": "code",
   "execution_count": 27,
   "metadata": {},
   "outputs": [],
   "source": [
    "Camera_match = re.search(Camera_pattern,Autel_content.content)\n",
    "Camera_match_dict = Camera_match.groupdict()"
   ]
  },
  {
   "cell_type": "code",
   "execution_count": 19,
   "metadata": {},
   "outputs": [
    {
     "name": "stdout",
     "output_type": "stream",
     "text": [
      "{'iso': '100', 'shutter': '30', 'ev': '0.0', 'f_num': '2.8'}\n"
     ]
    }
   ],
   "source": [
    "print(Camera_match.groupdict())"
   ]
  },
  {
   "cell_type": "code",
   "execution_count": 35,
   "metadata": {},
   "outputs": [],
   "source": [
    "@dataclass\n",
    "class DjiMini2SrtMessage():\n",
    "    \"\"\"\n",
    "    Sample massage:\n",
    "    F/2.8, SS 1667.11, ISO 100, EV 0, DZOOM 1.000, GPS (120.3534, 23.1201, 26), D 499.16m, H 98.00m, H.S 4.81m/s, V.S 0.10m/s \n",
    "    \"\"\"\n",
    "    f_step:float = 0. #aperture \n",
    "    ss:float = 0. # shutter speed\n",
    "    iso:int = 0\n",
    "    ev:float = 0. \n",
    "    dzoom:float = 0.\n",
    "    gps_lon:float = 0.\n",
    "    gps_lat:float = 0.\n",
    "    gps_sats:int = 0\n",
    "    home_distance:float = 0.\n",
    "    altitude:float = 0.\n",
    "    horizontal_speed:float = 0.\n",
    "    vertical_speed:float = 0.\n",
    "    def toSrtMessage(self):\n",
    "        \"\"\"Export to SRT message.\"\"\"\n",
    "        return f\"\"\"F/{str(self.f_step)}, SS {str(self.ss)}, ISO {str(self.iso)}, EV {str(self.ev)}, DZOOM {str(self.dzoom)}, GPS ({str(self.gps_lon)}, {str(self.gps_lat)}, {str(self.gps_sats)}), D {str(self.home_distance)}m, H {str(self.altitude)}m, H.S {str(self.horizontal_speed)}m/s, V.S {str(self.vertical_speed)}m/s \"\"\""
   ]
  },
  {
   "cell_type": "code",
   "execution_count": 28,
   "metadata": {},
   "outputs": [
    {
     "name": "stdout",
     "output_type": "stream",
     "text": [
      "121.498672 24.601662\n"
     ]
    }
   ],
   "source": [
    "gps_lon=0.\n",
    "gps_lat=0.\n",
    "if GPS_match_dict[\"ew\"] == \"W\":\n",
    "    gps_lon = -float(GPS_match_dict[\"lon\"])\n",
    "else:\n",
    "    gps_lon = float(GPS_match_dict[\"lon\"])\n",
    "if GPS_match_dict[\"ns\"] == \"S\":\n",
    "    gps_lat = -float(GPS_match_dict[\"lat\"])\n",
    "else:\n",
    "    gps_lat = float(GPS_match_dict[\"lat\"])\n",
    "print(gps_lon,gps_lat)"
   ]
  },
  {
   "cell_type": "code",
   "execution_count": 32,
   "metadata": {},
   "outputs": [],
   "source": [
    "djiFormatMsg = DjiMini2SrtMessage(\n",
    "    f_step=float(Camera_match_dict[\"f_num\"]),\n",
    "    ss=float(Camera_match_dict[\"shutter\"]),\n",
    "    iso=int(Camera_match_dict[\"iso\"]),\n",
    "    ev=float(Camera_match_dict[\"ev\"]),\n",
    "    gps_lon=gps_lon,\n",
    "    gps_lat=gps_lat,\n",
    "    altitude=float(GPS_match_dict[\"alt\"])   \n",
    ")"
   ]
  },
  {
   "cell_type": "code",
   "execution_count": 33,
   "metadata": {},
   "outputs": [
    {
     "data": {
      "text/plain": [
       "'F/2.8, SS 30.0, ISO 100, EV 0.0, DZOOM 0.0, GPS (121.498672, 24.601662, 0), D 0.0m, H 441.18m, H.S 0.0m/s, V.S 0.0m/s '"
      ]
     },
     "execution_count": 33,
     "metadata": {},
     "output_type": "execute_result"
    }
   ],
   "source": [
    "djiFormatMsg.toSrtMessage()"
   ]
  },
  {
   "cell_type": "code",
   "execution_count": null,
   "metadata": {},
   "outputs": [],
   "source": [
    "import logging"
   ]
  },
  {
   "cell_type": "code",
   "execution_count": 50,
   "metadata": {},
   "outputs": [],
   "source": [
    "# Compose to srt\n",
    "autelSubs:list[srt.Subtitle] = []\n",
    "for a_sub in AutelSrtGenerator:\n",
    "    # Try to extract the gps and camera data\n",
    "    GPS_match = re.search(GPS_pattern,a_sub.content)\n",
    "    Camera_match = re.search(Camera_pattern,a_sub.content)\n",
    "    \n",
    "    # If not match, continue.\n",
    "    if not GPS_match or not Camera_match:\n",
    "        logging.error(f\"The format does not match. Contents:{a_sub.content}\")\n",
    "        continue        \n",
    "    else:\n",
    "        GPS_match_dict = GPS_match.groupdict()\n",
    "        Camera_match_dict = Camera_match.groupdict()\n",
    "        gps_lon=0.\n",
    "        gps_lat=0.\n",
    "        if GPS_match_dict[\"ew\"] == \"W\":\n",
    "            gps_lon = -float(GPS_match_dict[\"lon\"])\n",
    "        else:\n",
    "            gps_lon = float(GPS_match_dict[\"lon\"])\n",
    "        if GPS_match_dict[\"ns\"] == \"S\":\n",
    "            gps_lat = -float(GPS_match_dict[\"lat\"])\n",
    "        else:\n",
    "            gps_lat = float(GPS_match_dict[\"lat\"])\n",
    "        djiFormatMsg = DjiMini2SrtMessage(\n",
    "            f_step=float(Camera_match_dict[\"f_num\"]),\n",
    "            ss=float(Camera_match_dict[\"shutter\"]),\n",
    "            iso=int(Camera_match_dict[\"iso\"]),\n",
    "            ev=float(Camera_match_dict[\"ev\"]),\n",
    "            gps_lon=gps_lon,\n",
    "            gps_lat=gps_lat,\n",
    "            altitude=float(GPS_match_dict[\"alt\"])\n",
    "            )\n",
    "        # Replace content of the subtitle\n",
    "        a_sub.content = djiFormatMsg.toSrtMessage()\n",
    "        autelSubs.append(a_sub)\n",
    "# print(srt.compose(autelSubs))\n",
    "with open(AutelSrtPath.with_suffix(\".a2d.srt\"),\"wt\",encoding=\"utf-8\") as fOut:\n",
    "    fOut.write(srt.compose(autelSubs))"
   ]
  },
  {
   "cell_type": "code",
   "execution_count": null,
   "metadata": {},
   "outputs": [],
   "source": []
  }
 ],
 "metadata": {
  "kernelspec": {
   "display_name": "srt",
   "language": "python",
   "name": "python3"
  },
  "language_info": {
   "codemirror_mode": {
    "name": "ipython",
    "version": 3
   },
   "file_extension": ".py",
   "mimetype": "text/x-python",
   "name": "python",
   "nbconvert_exporter": "python",
   "pygments_lexer": "ipython3",
   "version": "3.12.5"
  }
 },
 "nbformat": 4,
 "nbformat_minor": 2
}
